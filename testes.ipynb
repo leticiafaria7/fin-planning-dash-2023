{
 "cells": [
  {
   "cell_type": "code",
   "execution_count": 2,
   "metadata": {},
   "outputs": [],
   "source": [
    "# bibliotecas\n",
    "\n",
    "import pandas as pd\n",
    "import numpy as np\n",
    "import decimal"
   ]
  },
  {
   "cell_type": "code",
   "execution_count": 3,
   "metadata": {},
   "outputs": [
    {
     "name": "stderr",
     "output_type": "stream",
     "text": [
      "c:\\Users\\Hydra\\anaconda3\\lib\\site-packages\\openpyxl\\worksheet\\_read_only.py:79: UserWarning: Unknown extension is not supported and will be removed\n",
      "  for idx, row in parser.parse():\n"
     ]
    }
   ],
   "source": [
    "# bases de dados\n",
    "\n",
    "fluxo_caixa = 'assets/fluxo-caixa.xlsx'\n",
    "\n",
    "despesas = pd.read_excel(fluxo_caixa, \"despesas\", engine = 'openpyxl')\n",
    "ent_transf = pd.read_excel(fluxo_caixa, \"ent_transf\", engine = 'openpyxl')\n",
    "tot_cat = pd.read_excel(fluxo_caixa, 'tot_cat', engine = 'openpyxl')\n",
    "tot_mes = pd.read_excel(fluxo_caixa, 'tot_mes', engine = 'openpyxl')\n",
    "categorias = pd.read_excel(fluxo_caixa, 'categorias', engine = 'openpyxl')\n",
    "pg_faturas = pd.read_excel(fluxo_caixa, 'pg_faturas', engine = 'openpyxl')"
   ]
  },
  {
   "cell_type": "code",
   "execution_count": 13,
   "metadata": {},
   "outputs": [],
   "source": [
    "# somatório banco inter\n",
    "\n",
    "mes = 'Fevereiro'\n",
    "ano2 = 2023\n",
    "selected = \"casa\"\n",
    "\n",
    "ent_transf2 = ent_transf\n",
    "\n",
    "ent_transf2['mes'] = ent_transf2['mes'].str.capitalize()\n",
    "ent_transf2 = ent_transf2[ent_transf2['ano'] == ano2]\n",
    "\n",
    "ent_prev = ent_transf2[ent_transf2['mes'] == mes]['valor'].sum()\n",
    "tot_transf = ent_transf2.loc[ent_transf2['banco de origem'].notnull()]\n",
    "tot_transf = tot_transf[tot_transf['mes'] == mes]['valor'].sum()\n",
    "\n",
    "# print(tot_transf)\n"
   ]
  },
  {
   "cell_type": "code",
   "execution_count": null,
   "metadata": {},
   "outputs": [],
   "source": []
  }
 ],
 "metadata": {
  "kernelspec": {
   "display_name": "base",
   "language": "python",
   "name": "python3"
  },
  "language_info": {
   "codemirror_mode": {
    "name": "ipython",
    "version": 3
   },
   "file_extension": ".py",
   "mimetype": "text/x-python",
   "name": "python",
   "nbconvert_exporter": "python",
   "pygments_lexer": "ipython3",
   "version": "3.9.13"
  },
  "orig_nbformat": 4,
  "vscode": {
   "interpreter": {
    "hash": "4b807c049ee2972fa1da6be0f269432da35210c2504ceb0a8486d0eb4f345c36"
   }
  }
 },
 "nbformat": 4,
 "nbformat_minor": 2
}
