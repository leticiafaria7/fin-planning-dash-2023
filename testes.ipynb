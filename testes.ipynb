{
 "cells": [
  {
   "cell_type": "code",
   "execution_count": 1,
   "metadata": {},
   "outputs": [],
   "source": [
    "# bibliotecas\n",
    "\n",
    "import pandas as pd\n",
    "import numpy as np\n",
    "import decimal"
   ]
  },
  {
   "cell_type": "code",
   "execution_count": 2,
   "metadata": {},
   "outputs": [
    {
     "name": "stderr",
     "output_type": "stream",
     "text": [
      "c:\\Users\\Hydra\\anaconda3\\lib\\site-packages\\openpyxl\\worksheet\\_read_only.py:79: UserWarning: Unknown extension is not supported and will be removed\n",
      "  for idx, row in parser.parse():\n"
     ]
    }
   ],
   "source": [
    "# bases de dados\n",
    "\n",
    "fluxo_caixa = 'assets/fluxo-caixa.xlsx'\n",
    "\n",
    "despesas = pd.read_excel(fluxo_caixa, \"despesas\", engine = 'openpyxl')\n",
    "ent_transf = pd.read_excel(fluxo_caixa, \"ent_transf\", engine = 'openpyxl')\n",
    "tot_cat = pd.read_excel(fluxo_caixa, 'tot_cat', engine = 'openpyxl')\n",
    "tot_mes = pd.read_excel(fluxo_caixa, 'tot_mes', engine = 'openpyxl')\n",
    "categorias = pd.read_excel(fluxo_caixa, 'categorias', engine = 'openpyxl')\n",
    "pg_faturas = pd.read_excel(fluxo_caixa, 'pg_faturas', engine = 'openpyxl')"
   ]
  },
  {
   "cell_type": "code",
   "execution_count": 26,
   "metadata": {},
   "outputs": [
    {
     "name": "stdout",
     "output_type": "stream",
     "text": [
      "  macro categorias   valor  id\n",
      "4        vestuário  179.86   4\n",
      "vestuário\n",
      "  categoria   valor\n",
      "0    roupas  179.86\n"
     ]
    }
   ],
   "source": [
    "# somatório banco inter\n",
    "\n",
    "mes = 'Janeiro'\n",
    "ano = 2023\n",
    "selected = \"casa\"\n",
    "\n",
    "despesas2 = despesas\n",
    "\n",
    "despesas2['mes'] = despesas2['mes'].str.capitalize()\n",
    "despesas2 = despesas2[despesas2['ano'] == ano]\n",
    "despesas2 = despesas2[despesas2['mes'] == mes]\n",
    "\n",
    "tabela_detalhamento = despesas2.groupby(['macro'])['valor'].sum().sort_values(ascending = False).reset_index()\n",
    "\n",
    "tabela_detalhamento['valor'] = tabela_detalhamento['valor'].map('{:,.2f}'.format)\n",
    "\n",
    "tabela_detalhamento2 = tabela_detalhamento.rename(columns = {\n",
    "\"macro\": 'macro categorias',\n",
    "})\n",
    "\n",
    "tabela_detalhamento3 = tabela_detalhamento2.to_dict(orient = 'records')\n",
    "\n",
    "row_aux = '4,'\n",
    "\n",
    "macro = pd.DataFrame(tabela_detalhamento3, columns = ['macro categorias', 'valor'])\n",
    "macro['id'] = macro.index\n",
    "row = row_aux.replace(',', '')\n",
    "macro = macro[macro['id'] == int(row)]\n",
    "selected = str(macro.iloc[0]['macro categorias'])\n",
    "despesas3 = despesas2[despesas2['macro'] == selected]\n",
    "\n",
    "despesas3['mes'] = despesas3['mes'].str.capitalize()\n",
    "despesas3 = despesas3[despesas3['ano'] == ano2]\n",
    "despesas3 = despesas3[despesas3['mes'] == mes]\n",
    "\n",
    "sum_cat = despesas3.groupby(['categoria'])['valor'].sum().sort_values(ascending = True).reset_index()\n",
    "\n",
    "# print(macro)\n",
    "# print(selected)\n",
    "print(sum_cat)\n"
   ]
  },
  {
   "cell_type": "code",
   "execution_count": 40,
   "metadata": {},
   "outputs": [
    {
     "name": "stdout",
     "output_type": "stream",
     "text": [
      "         data               categoria    valor          canal pago?  mes_num  \\\n",
      "0  2023-01-01                  móveis   299.32   cartão inter   não      1.0   \n",
      "1  2023-01-01          google storage     6.99  cartão nubank   não      1.0   \n",
      "2  2023-01-01          estacionamento     9.00  cartão nubank   não      1.0   \n",
      "3  2023-01-01  supermercado / padaria    10.14  cartão nubank   não      1.0   \n",
      "4  2023-01-01         higiene pessoal    23.90  cartão nubank   não      1.0   \n",
      "5  2023-01-01                 spotify    24.90  cartão nubank   não      1.0   \n",
      "6  2023-01-01  supermercado / padaria    31.00  cartão nubank   não      1.0   \n",
      "7  2023-01-01              cosméticos    34.43  cartão nubank   não      1.0   \n",
      "8  2023-01-01              comer fora    38.09  cartão nubank   não      1.0   \n",
      "9  2023-01-01                    uber    44.97  cartão nubank   não      1.0   \n",
      "10 2023-01-01       utensílios / casa    50.47  cartão nubank   não      1.0   \n",
      "11 2023-01-01            medicamentos    54.68  cartão nubank   não      1.0   \n",
      "12 2023-01-01                    uber    54.94  cartão nubank   não      1.0   \n",
      "13 2023-01-01  supermercado / padaria    63.00  cartão nubank   não      1.0   \n",
      "14 2023-01-01                  móveis    89.94  cartão nubank   não      1.0   \n",
      "15 2023-01-01              comer fora   100.70  cartão nubank   não      1.0   \n",
      "16 2023-01-01              comer fora   120.67  cartão nubank   não      1.0   \n",
      "17 2023-01-01                  móveis   120.92  cartão nubank   não      1.0   \n",
      "18 2023-01-01                academia   123.31  cartão nubank   não      1.0   \n",
      "19 2023-01-01  supermercado / padaria   126.77  cartão nubank   não      1.0   \n",
      "20 2023-01-01                 corrida   132.00  cartão nubank   não      1.0   \n",
      "21 2023-01-01         óculos / lentes   144.16  cartão nubank   não      1.0   \n",
      "22 2023-01-01       utensílios / casa   171.55  cartão nubank   não      1.0   \n",
      "23 2023-01-01                  roupas   179.86  cartão nubank   não      1.0   \n",
      "24 2023-01-01                 das mei    65.60            NaN   não      1.0   \n",
      "25 2023-01-01                  eletro   110.00            NaN   não      1.0   \n",
      "26 2023-01-01                    vivo   132.68            NaN   não      1.0   \n",
      "27 2023-01-01                      oi   149.84            NaN   não      1.0   \n",
      "28 2023-01-01                 aluguel  1820.00            NaN   não      1.0   \n",
      "29 2023-01-09                  eletro    54.95            NaN   não      1.0   \n",
      "30 2023-01-09  supermercado / padaria   100.00            NaN   não      1.0   \n",
      "31 2023-01-09                   rolês   175.00            NaN   não      1.0   \n",
      "\n",
      "        mes     ano        macro  fatura paga  ...  .5   .6   .7   .8   .9  \\\n",
      "0   Janeiro  2023.0         casa          0.0  ... NaN  NaN  NaN  NaN  NaN   \n",
      "1   Janeiro  2023.0   streamings          0.0  ... NaN  NaN  NaN  NaN  NaN   \n",
      "2   Janeiro  2023.0   transporte          0.0  ... NaN  NaN  NaN  NaN  NaN   \n",
      "3   Janeiro  2023.0  alimentação          0.0  ... NaN  NaN  NaN  NaN  NaN   \n",
      "4   Janeiro  2023.0        saúde          0.0  ... NaN  NaN  NaN  NaN  NaN   \n",
      "5   Janeiro  2023.0   streamings          0.0  ... NaN  NaN  NaN  NaN  NaN   \n",
      "6   Janeiro  2023.0  alimentação          0.0  ... NaN  NaN  NaN  NaN  NaN   \n",
      "7   Janeiro  2023.0        saúde          0.0  ... NaN  NaN  NaN  NaN  NaN   \n",
      "8   Janeiro  2023.0  alimentação          0.0  ... NaN  NaN  NaN  NaN  NaN   \n",
      "9   Janeiro  2023.0   transporte          0.0  ... NaN  NaN  NaN  NaN  NaN   \n",
      "10  Janeiro  2023.0         casa          0.0  ... NaN  NaN  NaN  NaN  NaN   \n",
      "11  Janeiro  2023.0        saúde          0.0  ... NaN  NaN  NaN  NaN  NaN   \n",
      "12  Janeiro  2023.0   transporte          0.0  ... NaN  NaN  NaN  NaN  NaN   \n",
      "13  Janeiro  2023.0  alimentação          0.0  ... NaN  NaN  NaN  NaN  NaN   \n",
      "14  Janeiro  2023.0         casa          0.0  ... NaN  NaN  NaN  NaN  NaN   \n",
      "15  Janeiro  2023.0  alimentação          0.0  ... NaN  NaN  NaN  NaN  NaN   \n",
      "16  Janeiro  2023.0  alimentação          0.0  ... NaN  NaN  NaN  NaN  NaN   \n",
      "17  Janeiro  2023.0         casa          0.0  ... NaN  NaN  NaN  NaN  NaN   \n",
      "18  Janeiro  2023.0        saúde          0.0  ... NaN  NaN  NaN  NaN  NaN   \n",
      "19  Janeiro  2023.0  alimentação          0.0  ... NaN  NaN  NaN  NaN  NaN   \n",
      "20  Janeiro  2023.0        saúde          0.0  ... NaN  NaN  NaN  NaN  NaN   \n",
      "21  Janeiro  2023.0        saúde          0.0  ... NaN  NaN  NaN  NaN  NaN   \n",
      "22  Janeiro  2023.0         casa          0.0  ... NaN  NaN  NaN  NaN  NaN   \n",
      "23  Janeiro  2023.0    vestuário          0.0  ... NaN  NaN  NaN  NaN  NaN   \n",
      "24  Janeiro  2023.0      tarifas          NaN  ... NaN  NaN  NaN  NaN  NaN   \n",
      "25  Janeiro  2023.0         casa          NaN  ... NaN  NaN  NaN  NaN  NaN   \n",
      "26  Janeiro  2023.0       contas          NaN  ... NaN  NaN  NaN  NaN  NaN   \n",
      "27  Janeiro  2023.0       contas          NaN  ... NaN  NaN  NaN  NaN  NaN   \n",
      "28  Janeiro  2023.0         casa          NaN  ... NaN  NaN  NaN  NaN  NaN   \n",
      "29  Janeiro  2023.0         casa          NaN  ... NaN  NaN  NaN  NaN  NaN   \n",
      "30  Janeiro  2023.0  alimentação          NaN  ... NaN  NaN  NaN  NaN  NaN   \n",
      "31  Janeiro  2023.0       social          NaN  ... NaN  NaN  NaN  NaN  NaN   \n",
      "\n",
      "     .10   .11   .12   .13   .14  \n",
      "0    NaN   NaN   NaN   NaN   NaN  \n",
      "1    NaN   NaN   NaN   NaN   NaN  \n",
      "2    NaN   NaN   NaN   NaN   NaN  \n",
      "3    NaN   NaN   NaN   NaN   NaN  \n",
      "4    NaN   NaN   NaN   NaN   NaN  \n",
      "5    NaN   NaN   NaN   NaN   NaN  \n",
      "6    NaN   NaN   NaN   NaN   NaN  \n",
      "7    NaN   NaN   NaN   NaN   NaN  \n",
      "8    NaN   NaN   NaN   NaN   NaN  \n",
      "9    NaN   NaN   NaN   NaN   NaN  \n",
      "10   NaN   NaN   NaN   NaN   NaN  \n",
      "11   NaN   NaN   NaN   NaN   NaN  \n",
      "12   NaN   NaN   NaN   NaN   NaN  \n",
      "13   NaN   NaN   NaN   NaN   NaN  \n",
      "14   NaN   NaN   NaN   NaN   NaN  \n",
      "15   NaN   NaN   NaN   NaN   NaN  \n",
      "16   NaN   NaN   NaN   NaN   NaN  \n",
      "17   NaN   NaN   NaN   NaN   NaN  \n",
      "18   NaN   NaN   NaN   NaN   NaN  \n",
      "19   NaN   NaN   NaN   NaN   NaN  \n",
      "20   NaN   NaN   NaN   NaN   NaN  \n",
      "21   NaN   NaN   NaN   NaN   NaN  \n",
      "22   NaN   NaN   NaN   NaN   NaN  \n",
      "23   NaN   NaN   NaN   NaN   NaN  \n",
      "24   NaN   NaN   NaN   NaN   NaN  \n",
      "25   NaN   NaN   NaN   NaN   NaN  \n",
      "26   NaN   NaN   NaN   NaN   NaN  \n",
      "27   NaN   NaN   NaN   NaN   NaN  \n",
      "28   NaN   NaN   NaN   NaN   NaN  \n",
      "29   NaN   NaN   NaN   NaN   NaN  \n",
      "30   NaN   NaN   NaN   NaN   NaN  \n",
      "31   NaN   NaN   NaN   NaN   NaN  \n",
      "\n",
      "[32 rows x 26 columns]\n"
     ]
    }
   ],
   "source": [
    "\n",
    "# print(sum_cat.columns)"
   ]
  },
  {
   "cell_type": "code",
   "execution_count": null,
   "metadata": {},
   "outputs": [],
   "source": []
  }
 ],
 "metadata": {
  "kernelspec": {
   "display_name": "base",
   "language": "python",
   "name": "python3"
  },
  "language_info": {
   "codemirror_mode": {
    "name": "ipython",
    "version": 3
   },
   "file_extension": ".py",
   "mimetype": "text/x-python",
   "name": "python",
   "nbconvert_exporter": "python",
   "pygments_lexer": "ipython3",
   "version": "3.9.13"
  },
  "orig_nbformat": 4,
  "vscode": {
   "interpreter": {
    "hash": "4b807c049ee2972fa1da6be0f269432da35210c2504ceb0a8486d0eb4f345c36"
   }
  }
 },
 "nbformat": 4,
 "nbformat_minor": 2
}
