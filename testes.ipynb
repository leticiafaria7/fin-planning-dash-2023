{
 "cells": [
  {
   "cell_type": "code",
   "execution_count": 1,
   "metadata": {},
   "outputs": [],
   "source": [
    "# bibliotecas\n",
    "\n",
    "import pandas as pd\n",
    "import numpy as np"
   ]
  },
  {
   "cell_type": "code",
   "execution_count": 7,
   "metadata": {},
   "outputs": [],
   "source": [
    "# bases de dados\n",
    "fluxo_caixa = 'assets/fluxo-caixa.xlsx'\n",
    "\n",
    "despesas = pd.read_excel(fluxo_caixa, \"despesas\", engine = 'openpyxl')\n",
    "ent_transf = pd.read_excel(fluxo_caixa, \"ent_transf\", engine = 'openpyxl')\n",
    "tot_cat = pd.read_excel(fluxo_caixa, 'tot_cat', engine = 'openpyxl')\n",
    "tot_mes = pd.read_excel(fluxo_caixa, 'tot_mes', engine = 'openpyxl')\n",
    "categorias = pd.read_excel(fluxo_caixa, 'categorias', engine = 'openpyxl')"
   ]
  },
  {
   "cell_type": "code",
   "execution_count": 9,
   "metadata": {},
   "outputs": [
    {
     "name": "stdout",
     "output_type": "stream",
     "text": [
      "         data    valor  banco de origem  banco de destino  mês   ano       .1  \\\n",
      "0  2023-01-05  3565.00              NaN               NaN    1  2023 NaN  NaN   \n",
      "1  2023-01-05   216.00              NaN               NaN    1  2023 NaN  NaN   \n",
      "2  2023-01-05   171.56              NaN               NaN    1  2023 NaN  NaN   \n",
      "3  2023-02-01  3565.00              NaN               NaN    2  2023 NaN  NaN   \n",
      "4  2023-02-01   216.00              NaN               NaN    2  2023 NaN  NaN   \n",
      "5  2023-02-01    86.00              NaN               NaN    2  2023 NaN  NaN   \n",
      "6  2023-03-01  3565.00              NaN               NaN    3  2023 NaN  NaN   \n",
      "7  2023-03-01   216.00              NaN               NaN    3  2023 NaN  NaN   \n",
      "8  2023-04-01  3565.00              NaN               NaN    4  2023 NaN  NaN   \n",
      "9  2023-04-01   216.00              NaN               NaN    4  2023 NaN  NaN   \n",
      "10 2023-05-01  3565.00              NaN               NaN    5  2023 NaN  NaN   \n",
      "11 2023-05-01   216.00              NaN               NaN    5  2023 NaN  NaN   \n",
      "12 2023-06-01  3565.00              NaN               NaN    6  2023 NaN  NaN   \n",
      "13 2023-06-01   216.00              NaN               NaN    6  2023 NaN  NaN   \n",
      "14 2023-07-01  3565.00              NaN               NaN    7  2023 NaN  NaN   \n",
      "15 2023-07-01   216.00              NaN               NaN    7  2023 NaN  NaN   \n",
      "16 2023-08-01  3565.00              NaN               NaN    8  2023 NaN  NaN   \n",
      "17 2023-08-01   216.00              NaN               NaN    8  2023 NaN  NaN   \n",
      "18 2023-09-01  3565.00              NaN               NaN    9  2023 NaN  NaN   \n",
      "19 2023-09-01   216.00              NaN               NaN    9  2023 NaN  NaN   \n",
      "20 2023-10-01  3565.00              NaN               NaN   10  2023 NaN  NaN   \n",
      "21 2023-10-01   216.00              NaN               NaN   10  2023 NaN  NaN   \n",
      "22 2023-11-01  3565.00              NaN               NaN   11  2023 NaN  NaN   \n",
      "23 2023-11-01   216.00              NaN               NaN   11  2023 NaN  NaN   \n",
      "24 2023-12-01  3565.00              NaN               NaN   12  2023 NaN  NaN   \n",
      "25 2023-12-01   216.00              NaN               NaN   12  2023 NaN  NaN   \n",
      "\n",
      "     .2   .3  ...   .10   .11   .12   .13   .14   .15   .16   .17   .18   .19  \n",
      "0   NaN  NaN  ...   NaN   NaN   NaN   NaN   NaN   NaN   NaN   NaN   NaN   NaN  \n",
      "1   NaN  NaN  ...   NaN   NaN   NaN   NaN   NaN   NaN   NaN   NaN   NaN   NaN  \n",
      "2   NaN  NaN  ...   NaN   NaN   NaN   NaN   NaN   NaN   NaN   NaN   NaN   NaN  \n",
      "3   NaN  NaN  ...   NaN   NaN   NaN   NaN   NaN   NaN   NaN   NaN   NaN   NaN  \n",
      "4   NaN  NaN  ...   NaN   NaN   NaN   NaN   NaN   NaN   NaN   NaN   NaN   NaN  \n",
      "5   NaN  NaN  ...   NaN   NaN   NaN   NaN   NaN   NaN   NaN   NaN   NaN   NaN  \n",
      "6   NaN  NaN  ...   NaN   NaN   NaN   NaN   NaN   NaN   NaN   NaN   NaN   NaN  \n",
      "7   NaN  NaN  ...   NaN   NaN   NaN   NaN   NaN   NaN   NaN   NaN   NaN   NaN  \n",
      "8   NaN  NaN  ...   NaN   NaN   NaN   NaN   NaN   NaN   NaN   NaN   NaN   NaN  \n",
      "9   NaN  NaN  ...   NaN   NaN   NaN   NaN   NaN   NaN   NaN   NaN   NaN   NaN  \n",
      "10  NaN  NaN  ...   NaN   NaN   NaN   NaN   NaN   NaN   NaN   NaN   NaN   NaN  \n",
      "11  NaN  NaN  ...   NaN   NaN   NaN   NaN   NaN   NaN   NaN   NaN   NaN   NaN  \n",
      "12  NaN  NaN  ...   NaN   NaN   NaN   NaN   NaN   NaN   NaN   NaN   NaN   NaN  \n",
      "13  NaN  NaN  ...   NaN   NaN   NaN   NaN   NaN   NaN   NaN   NaN   NaN   NaN  \n",
      "14  NaN  NaN  ...   NaN   NaN   NaN   NaN   NaN   NaN   NaN   NaN   NaN   NaN  \n",
      "15  NaN  NaN  ...   NaN   NaN   NaN   NaN   NaN   NaN   NaN   NaN   NaN   NaN  \n",
      "16  NaN  NaN  ...   NaN   NaN   NaN   NaN   NaN   NaN   NaN   NaN   NaN   NaN  \n",
      "17  NaN  NaN  ...   NaN   NaN   NaN   NaN   NaN   NaN   NaN   NaN   NaN   NaN  \n",
      "18  NaN  NaN  ...   NaN   NaN   NaN   NaN   NaN   NaN   NaN   NaN   NaN   NaN  \n",
      "19  NaN  NaN  ...   NaN   NaN   NaN   NaN   NaN   NaN   NaN   NaN   NaN   NaN  \n",
      "20  NaN  NaN  ...   NaN   NaN   NaN   NaN   NaN   NaN   NaN   NaN   NaN   NaN  \n",
      "21  NaN  NaN  ...   NaN   NaN   NaN   NaN   NaN   NaN   NaN   NaN   NaN   NaN  \n",
      "22  NaN  NaN  ...   NaN   NaN   NaN   NaN   NaN   NaN   NaN   NaN   NaN   NaN  \n",
      "23  NaN  NaN  ...   NaN   NaN   NaN   NaN   NaN   NaN   NaN   NaN   NaN   NaN  \n",
      "24  NaN  NaN  ...   NaN   NaN   NaN   NaN   NaN   NaN   NaN   NaN   NaN   NaN  \n",
      "25  NaN  NaN  ...   NaN   NaN   NaN   NaN   NaN   NaN   NaN   NaN   NaN   NaN  \n",
      "\n",
      "[26 rows x 26 columns]\n"
     ]
    }
   ],
   "source": [
    "print(ent_transf)"
   ]
  },
  {
   "cell_type": "code",
   "execution_count": null,
   "metadata": {},
   "outputs": [],
   "source": []
  }
 ],
 "metadata": {
  "kernelspec": {
   "display_name": "base",
   "language": "python",
   "name": "python3"
  },
  "language_info": {
   "codemirror_mode": {
    "name": "ipython",
    "version": 3
   },
   "file_extension": ".py",
   "mimetype": "text/x-python",
   "name": "python",
   "nbconvert_exporter": "python",
   "pygments_lexer": "ipython3",
   "version": "3.9.13"
  },
  "orig_nbformat": 4,
  "vscode": {
   "interpreter": {
    "hash": "4b807c049ee2972fa1da6be0f269432da35210c2504ceb0a8486d0eb4f345c36"
   }
  }
 },
 "nbformat": 4,
 "nbformat_minor": 2
}
